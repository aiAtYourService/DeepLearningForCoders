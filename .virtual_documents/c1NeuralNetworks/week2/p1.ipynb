import numpy as np
a=np.random.randn(5)
#rank 1 array: dont use them.


a


print(a.shape)


print(a.T)


print(np.dot(a,a.T))


# right method
a=np.random.randn(5,1)


print(a.T)


print(a)


print(np.dot(a,a.T))


assert(a.shape==(5,1))



