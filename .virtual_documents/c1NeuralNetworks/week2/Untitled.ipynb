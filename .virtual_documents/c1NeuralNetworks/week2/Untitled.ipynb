import  numpy as np



a=np.array([[1,2,3,4],[3,1,2,4],[3,2,1,4]])


cal=a.sum(axis=0)


print(cal)


percentage=100*a/cal.reshape(1,4)


print(percentage)



