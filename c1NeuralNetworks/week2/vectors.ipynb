{
 "cells": [
  {
   "cell_type": "code",
   "execution_count": 1,
   "id": "631ac45f-88b5-4011-bbf3-513146c04d69",
   "metadata": {},
   "outputs": [],
   "source": [
    "import numpy as np\n",
    "a=np.random.randn(5)\n",
    "#rank 1 array: dont use them."
   ]
  },
  {
   "cell_type": "code",
   "execution_count": 2,
   "id": "9b778447-fafd-4f91-9bf4-6d0d693c4924",
   "metadata": {},
   "outputs": [
    {
     "data": {
      "text/plain": [
       "array([ 1.2835579 ,  0.08268451, -0.45911216, -0.32762802, -0.77440864])"
      ]
     },
     "execution_count": 2,
     "metadata": {},
     "output_type": "execute_result"
    }
   ],
   "source": [
    "a"
   ]
  },
  {
   "cell_type": "code",
   "execution_count": 3,
   "id": "9fd6274c-d7b8-4585-b364-974175b7086e",
   "metadata": {},
   "outputs": [
    {
     "name": "stdout",
     "output_type": "stream",
     "text": [
      "(5,)\n"
     ]
    }
   ],
   "source": [
    "print(a.shape)"
   ]
  },
  {
   "cell_type": "code",
   "execution_count": 4,
   "id": "e1fca448-f95b-4408-b961-b0335c4fef8c",
   "metadata": {},
   "outputs": [
    {
     "name": "stdout",
     "output_type": "stream",
     "text": [
      "[ 1.2835579   0.08268451 -0.45911216 -0.32762802 -0.77440864]\n"
     ]
    }
   ],
   "source": [
    "print(a.T)"
   ]
  },
  {
   "cell_type": "code",
   "execution_count": 6,
   "id": "13eed368-4ec4-4d49-8f06-e751f52e4d2c",
   "metadata": {},
   "outputs": [
    {
     "name": "stdout",
     "output_type": "stream",
     "text": [
      "2.5721904486880893\n"
     ]
    }
   ],
   "source": [
    "print(np.dot(a,a.T))"
   ]
  },
  {
   "cell_type": "code",
   "execution_count": 7,
   "id": "5b665e20-ac9d-451e-8343-0e12f761fe4d",
   "metadata": {},
   "outputs": [],
   "source": [
    "# right method\n",
    "a=np.random.randn(5,1)"
   ]
  },
  {
   "cell_type": "code",
   "execution_count": 8,
   "id": "c1260200-54a7-4699-9192-a85652757929",
   "metadata": {},
   "outputs": [
    {
     "name": "stdout",
     "output_type": "stream",
     "text": [
      "[[ 2.19656409  0.90438383 -1.40734309  3.71037813 -0.49757913]]\n"
     ]
    }
   ],
   "source": [
    "print(a.T)"
   ]
  },
  {
   "cell_type": "code",
   "execution_count": 9,
   "id": "3c1c53de-0aec-4144-9f23-6118b843f431",
   "metadata": {},
   "outputs": [
    {
     "name": "stdout",
     "output_type": "stream",
     "text": [
      "[[ 2.19656409]\n",
      " [ 0.90438383]\n",
      " [-1.40734309]\n",
      " [ 3.71037813]\n",
      " [-0.49757913]]\n"
     ]
    }
   ],
   "source": [
    "print(a)"
   ]
  },
  {
   "cell_type": "code",
   "execution_count": 11,
   "id": "bb065a23-4253-4681-9b62-6199803735fc",
   "metadata": {},
   "outputs": [
    {
     "name": "stdout",
     "output_type": "stream",
     "text": [
      "[[ 4.82489382  1.98653706 -3.09131929  8.15008339 -1.09296446]\n",
      " [ 1.98653706  0.81791012 -1.27277834  3.355606   -0.45000252]\n",
      " [-3.09131929 -1.27277834  1.98061456 -5.22177502  0.70026455]\n",
      " [ 8.15008339  3.355606   -5.22177502 13.7669059  -1.84620673]\n",
      " [-1.09296446 -0.45000252  0.70026455 -1.84620673  0.24758499]]\n"
     ]
    }
   ],
   "source": [
    "print(np.dot(a,a.T))"
   ]
  },
  {
   "cell_type": "code",
   "execution_count": 12,
   "id": "bb948852-1f50-4a86-8fbf-2b34d7cd3488",
   "metadata": {},
   "outputs": [],
   "source": [
    "assert(a.shape==(5,1))"
   ]
  },
  {
   "cell_type": "code",
   "execution_count": null,
   "id": "9d83cada-2db8-4067-ab0d-df2fc3847b65",
   "metadata": {},
   "outputs": [],
   "source": []
  }
 ],
 "metadata": {
  "kernelspec": {
   "display_name": "Python 3 (ipykernel)",
   "language": "python",
   "name": "python3"
  },
  "language_info": {
   "codemirror_mode": {
    "name": "ipython",
    "version": 3
   },
   "file_extension": ".py",
   "mimetype": "text/x-python",
   "name": "python",
   "nbconvert_exporter": "python",
   "pygments_lexer": "ipython3",
   "version": "3.11.7"
  }
 },
 "nbformat": 4,
 "nbformat_minor": 5
}
