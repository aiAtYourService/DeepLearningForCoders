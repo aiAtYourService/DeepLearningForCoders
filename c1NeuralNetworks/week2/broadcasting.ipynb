{
 "cells": [
  {
   "cell_type": "code",
   "execution_count": 1,
   "id": "4b6c1918-9ff3-424d-a41b-c8d6e84d4af9",
   "metadata": {},
   "outputs": [],
   "source": [
    "import  numpy as np\n"
   ]
  },
  {
   "cell_type": "code",
   "execution_count": 3,
   "id": "9258e715-f33e-4122-99fc-f7001f73c98a",
   "metadata": {},
   "outputs": [],
   "source": [
    "a=np.array([[1,2,3,4],[3,1,2,4],[3,2,1,4]])"
   ]
  },
  {
   "cell_type": "code",
   "execution_count": 4,
   "id": "ab4d1fe1-95c3-406b-8400-c87d274df0fd",
   "metadata": {},
   "outputs": [],
   "source": [
    "cal=a.sum(axis=0)"
   ]
  },
  {
   "cell_type": "code",
   "execution_count": 5,
   "id": "390d100f-8a5d-4479-9427-0bfc19b31e3c",
   "metadata": {},
   "outputs": [
    {
     "name": "stdout",
     "output_type": "stream",
     "text": [
      "[ 7  5  6 12]\n"
     ]
    }
   ],
   "source": [
    "print(cal)"
   ]
  },
  {
   "cell_type": "code",
   "execution_count": 7,
   "id": "8ac6f9f1-eb8d-462e-a676-81128efab6b7",
   "metadata": {},
   "outputs": [],
   "source": [
    "percentage=100*a/cal.reshape(1,4)"
   ]
  },
  {
   "cell_type": "code",
   "execution_count": 8,
   "id": "a2d3ad1a-25af-4374-b928-3e939329ed33",
   "metadata": {},
   "outputs": [
    {
     "name": "stdout",
     "output_type": "stream",
     "text": [
      "[[14.28571429 40.         50.         33.33333333]\n",
      " [42.85714286 20.         33.33333333 33.33333333]\n",
      " [42.85714286 40.         16.66666667 33.33333333]]\n"
     ]
    }
   ],
   "source": [
    "print(percentage)"
   ]
  },
  {
   "cell_type": "code",
   "execution_count": null,
   "id": "2f3c1f1b-37da-4d15-b2be-57e1fa7b453d",
   "metadata": {},
   "outputs": [],
   "source": []
  }
 ],
 "metadata": {
  "kernelspec": {
   "display_name": "Python 3 (ipykernel)",
   "language": "python",
   "name": "python3"
  },
  "language_info": {
   "codemirror_mode": {
    "name": "ipython",
    "version": 3
   },
   "file_extension": ".py",
   "mimetype": "text/x-python",
   "name": "python",
   "nbconvert_exporter": "python",
   "pygments_lexer": "ipython3",
   "version": "3.11.7"
  }
 },
 "nbformat": 4,
 "nbformat_minor": 5
}
